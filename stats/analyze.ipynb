{
 "cells": [
  {
   "cell_type": "code",
   "execution_count": 2,
   "metadata": {},
   "outputs": [],
   "source": [
    "import pandas as pd \n",
    "import numpy as np "
   ]
  },
  {
   "cell_type": "code",
   "execution_count": 4,
   "metadata": {},
   "outputs": [
    {
     "data": {
      "text/html": "<div>\n<style scoped>\n    .dataframe tbody tr th:only-of-type {\n        vertical-align: middle;\n    }\n\n    .dataframe tbody tr th {\n        vertical-align: top;\n    }\n\n    .dataframe thead th {\n        text-align: right;\n    }\n</style>\n<table border=\"1\" class=\"dataframe\">\n  <thead>\n    <tr style=\"text-align: right;\">\n      <th></th>\n      <th>Unnamed: 0</th>\n      <th>size</th>\n      <th>day</th>\n      <th>for</th>\n      <th>while</th>\n      <th>if</th>\n      <th>elif</th>\n      <th>def</th>\n      <th>[</th>\n      <th>{</th>\n      <th>(</th>\n      <th>list</th>\n      <th>set</th>\n      <th>lambda</th>\n      <th>map</th>\n      <th>lines</th>\n    </tr>\n  </thead>\n  <tbody>\n    <tr>\n      <th>count</th>\n      <td>25.000000</td>\n      <td>25.000000</td>\n      <td>25.000000</td>\n      <td>25.000000</td>\n      <td>25.000000</td>\n      <td>25.000000</td>\n      <td>25.000000</td>\n      <td>25.000000</td>\n      <td>25.000000</td>\n      <td>25.000000</td>\n      <td>25.000000</td>\n      <td>25.000000</td>\n      <td>25.000000</td>\n      <td>25.00000</td>\n      <td>25.000000</td>\n      <td>25.000000</td>\n    </tr>\n    <tr>\n      <th>mean</th>\n      <td>12.000000</td>\n      <td>1679.120000</td>\n      <td>13.000000</td>\n      <td>6.760000</td>\n      <td>0.600000</td>\n      <td>7.040000</td>\n      <td>1.120000</td>\n      <td>4.760000</td>\n      <td>19.960000</td>\n      <td>1.920000</td>\n      <td>35.760000</td>\n      <td>2.920000</td>\n      <td>3.280000</td>\n      <td>0.20000</td>\n      <td>0.240000</td>\n      <td>63.000000</td>\n    </tr>\n    <tr>\n      <th>std</th>\n      <td>7.359801</td>\n      <td>952.532691</td>\n      <td>7.359801</td>\n      <td>5.084945</td>\n      <td>0.866025</td>\n      <td>4.117847</td>\n      <td>1.877942</td>\n      <td>3.003886</td>\n      <td>16.488582</td>\n      <td>2.812472</td>\n      <td>22.574469</td>\n      <td>2.177919</td>\n      <td>5.571654</td>\n      <td>0.57735</td>\n      <td>0.879394</td>\n      <td>35.182856</td>\n    </tr>\n    <tr>\n      <th>min</th>\n      <td>0.000000</td>\n      <td>316.000000</td>\n      <td>1.000000</td>\n      <td>0.000000</td>\n      <td>0.000000</td>\n      <td>0.000000</td>\n      <td>0.000000</td>\n      <td>1.000000</td>\n      <td>0.000000</td>\n      <td>0.000000</td>\n      <td>6.000000</td>\n      <td>0.000000</td>\n      <td>0.000000</td>\n      <td>0.00000</td>\n      <td>0.000000</td>\n      <td>8.000000</td>\n    </tr>\n    <tr>\n      <th>25%</th>\n      <td>6.000000</td>\n      <td>987.000000</td>\n      <td>7.000000</td>\n      <td>3.000000</td>\n      <td>0.000000</td>\n      <td>3.000000</td>\n      <td>0.000000</td>\n      <td>3.000000</td>\n      <td>5.000000</td>\n      <td>0.000000</td>\n      <td>19.000000</td>\n      <td>2.000000</td>\n      <td>0.000000</td>\n      <td>0.00000</td>\n      <td>0.000000</td>\n      <td>34.000000</td>\n    </tr>\n    <tr>\n      <th>50%</th>\n      <td>12.000000</td>\n      <td>1592.000000</td>\n      <td>13.000000</td>\n      <td>5.000000</td>\n      <td>0.000000</td>\n      <td>7.000000</td>\n      <td>0.000000</td>\n      <td>4.000000</td>\n      <td>21.000000</td>\n      <td>0.000000</td>\n      <td>31.000000</td>\n      <td>2.000000</td>\n      <td>1.000000</td>\n      <td>0.00000</td>\n      <td>0.000000</td>\n      <td>57.000000</td>\n    </tr>\n    <tr>\n      <th>75%</th>\n      <td>18.000000</td>\n      <td>2126.000000</td>\n      <td>19.000000</td>\n      <td>12.000000</td>\n      <td>1.000000</td>\n      <td>10.000000</td>\n      <td>2.000000</td>\n      <td>6.000000</td>\n      <td>28.000000</td>\n      <td>5.000000</td>\n      <td>49.000000</td>\n      <td>4.000000</td>\n      <td>4.000000</td>\n      <td>0.00000</td>\n      <td>0.000000</td>\n      <td>78.000000</td>\n    </tr>\n    <tr>\n      <th>max</th>\n      <td>24.000000</td>\n      <td>4232.000000</td>\n      <td>25.000000</td>\n      <td>17.000000</td>\n      <td>3.000000</td>\n      <td>14.000000</td>\n      <td>6.000000</td>\n      <td>14.000000</td>\n      <td>66.000000</td>\n      <td>10.000000</td>\n      <td>90.000000</td>\n      <td>10.000000</td>\n      <td>23.000000</td>\n      <td>2.00000</td>\n      <td>4.000000</td>\n      <td>166.000000</td>\n    </tr>\n  </tbody>\n</table>\n</div>",
      "text/plain": "       Unnamed: 0         size        day        for      while         if  \\\ncount   25.000000    25.000000  25.000000  25.000000  25.000000  25.000000   \nmean    12.000000  1679.120000  13.000000   6.760000   0.600000   7.040000   \nstd      7.359801   952.532691   7.359801   5.084945   0.866025   4.117847   \nmin      0.000000   316.000000   1.000000   0.000000   0.000000   0.000000   \n25%      6.000000   987.000000   7.000000   3.000000   0.000000   3.000000   \n50%     12.000000  1592.000000  13.000000   5.000000   0.000000   7.000000   \n75%     18.000000  2126.000000  19.000000  12.000000   1.000000  10.000000   \nmax     24.000000  4232.000000  25.000000  17.000000   3.000000  14.000000   \n\n            elif        def          [          {          (       list  \\\ncount  25.000000  25.000000  25.000000  25.000000  25.000000  25.000000   \nmean    1.120000   4.760000  19.960000   1.920000  35.760000   2.920000   \nstd     1.877942   3.003886  16.488582   2.812472  22.574469   2.177919   \nmin     0.000000   1.000000   0.000000   0.000000   6.000000   0.000000   \n25%     0.000000   3.000000   5.000000   0.000000  19.000000   2.000000   \n50%     0.000000   4.000000  21.000000   0.000000  31.000000   2.000000   \n75%     2.000000   6.000000  28.000000   5.000000  49.000000   4.000000   \nmax     6.000000  14.000000  66.000000  10.000000  90.000000  10.000000   \n\n             set    lambda        map       lines  \ncount  25.000000  25.00000  25.000000   25.000000  \nmean    3.280000   0.20000   0.240000   63.000000  \nstd     5.571654   0.57735   0.879394   35.182856  \nmin     0.000000   0.00000   0.000000    8.000000  \n25%     0.000000   0.00000   0.000000   34.000000  \n50%     1.000000   0.00000   0.000000   57.000000  \n75%     4.000000   0.00000   0.000000   78.000000  \nmax    23.000000   2.00000   4.000000  166.000000  "
     },
     "execution_count": 4,
     "metadata": {},
     "output_type": "execute_result"
    }
   ],
   "source": [
    "aoc = pd.read_csv('2020_t.csv')\n",
    "aoc.describe()"
   ]
  }
 ],
 "metadata": {
  "kernelspec": {
   "display_name": "Python 3.8.5 64-bit ('.venv')",
   "metadata": {
    "interpreter": {
     "hash": "6b7d9cfd21bcc73030b9a8b7cc1951600a112dff3c302ec492c58faa5b1dd6cf"
    }
   },
   "name": "python3"
  },
  "language_info": {
   "codemirror_mode": {
    "name": "ipython",
    "version": 3
   },
   "file_extension": ".py",
   "mimetype": "text/x-python",
   "name": "python",
   "nbconvert_exporter": "python",
   "pygments_lexer": "ipython3",
   "version": "3.8.5"
  },
  "orig_nbformat": 2
 },
 "nbformat": 4,
 "nbformat_minor": 2
}